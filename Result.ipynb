{
 "cells": [
  {
   "cell_type": "code",
   "execution_count": 29,
   "id": "amateur-drama",
   "metadata": {},
   "outputs": [],
   "source": [
    "import pandas as pd\n",
    "import glob\n",
    "import numpy as np"
   ]
  },
  {
   "cell_type": "code",
   "execution_count": 5,
   "id": "roman-retail",
   "metadata": {},
   "outputs": [],
   "source": [
    "x = {}\n",
    "for i in glob.glob(\"*csv\"):\n",
    "    x[i.split(\".\")[0]] = pd.read_csv(i)"
   ]
  },
  {
   "cell_type": "code",
   "execution_count": 32,
   "id": "electronic-thumbnail",
   "metadata": {},
   "outputs": [
    {
     "name": "stdout",
     "output_type": "stream",
     "text": [
      "resnet18_ftn_dataaugumented\n",
      "0.7830508474576272\n",
      "[[14.6  2.4  2.8]\n",
      " [ 3.8 17.6  0.2]\n",
      " [ 2.6  1.  14. ]]\n",
      "\n",
      "resnet18_ftn_nodataaugument\n",
      "0.7152542372881354\n",
      "[[12.6  4.4  2.8]\n",
      " [ 4.6 15.8  0.4]\n",
      " [ 3.8  0.8 13.8]]\n",
      "\n",
      "resnet18_tfl_dataaugumented\n",
      "0.7084745762711864\n",
      "[[12.6  2.4  4. ]\n",
      " [ 5.4 17.2  1. ]\n",
      " [ 3.   1.4 12. ]]\n",
      "\n",
      "resnet18_tfl_nodataaugument\n",
      "0.7118644067796611\n",
      "[[13.4  3.   4.4]\n",
      " [ 6.8 17.6  1.6]\n",
      " [ 0.8  0.4 11. ]]\n",
      "\n",
      "vgg16_ftn_dataaugumented\n",
      "0.4610169491525424\n",
      "[[ 8.8  5.6  4.6]\n",
      " [11.4 15.4  9.4]\n",
      " [ 0.8  0.   3. ]]\n",
      "\n",
      "vgg16_ftn_nodataaugument\n",
      "0.39661016949152544\n",
      "[[ 7.4  5.   4.2]\n",
      " [13.6 16.  12.8]\n",
      " [ 0.   0.   0. ]]\n",
      "\n",
      "vgg16_tfl_dataaugumented\n",
      "0.776271186440678\n",
      "[[14.2  1.8  3.2]\n",
      " [ 4.6 18.   0.2]\n",
      " [ 2.2  1.2 13.6]]\n",
      "\n",
      "vgg16_tfl_nodataaugument\n",
      "0.759322033898305\n",
      "[[13.   1.6  2.4]\n",
      " [ 7.4 18.6  1.4]\n",
      " [ 0.6  0.8 13.2]]\n",
      "\n"
     ]
    }
   ],
   "source": [
    "for i in x.keys():\n",
    "    print(i)\n",
    "    print(np.mean( x[i].iloc[:, 3] ))\n",
    "    print((x[i].iloc[0:3, 0:3].values+x[i].iloc[3:6, 0:3].values+x[i].iloc[6:9, 0:3].values+x[i].iloc[9:12, 0:3].values+x[i].iloc[12:15, 0:3].values)/5)\n",
    "    print(\"\")"
   ]
  },
  {
   "cell_type": "code",
   "execution_count": null,
   "id": "arbitrary-jason",
   "metadata": {},
   "outputs": [],
   "source": []
  }
 ],
 "metadata": {
  "kernelspec": {
   "display_name": "Python 3",
   "language": "python",
   "name": "python3"
  },
  "language_info": {
   "codemirror_mode": {
    "name": "ipython",
    "version": 3
   },
   "file_extension": ".py",
   "mimetype": "text/x-python",
   "name": "python",
   "nbconvert_exporter": "python",
   "pygments_lexer": "ipython3",
   "version": "3.7.7"
  },
  "toc": {
   "base_numbering": 1,
   "nav_menu": {},
   "number_sections": true,
   "sideBar": true,
   "skip_h1_title": false,
   "title_cell": "Table of Contents",
   "title_sidebar": "Contents",
   "toc_cell": false,
   "toc_position": {},
   "toc_section_display": true,
   "toc_window_display": false
  }
 },
 "nbformat": 4,
 "nbformat_minor": 5
}
